{
 "cells": [
  {
   "cell_type": "markdown",
   "metadata": {},
   "source": [
    "## 1.背包问题(Knapsack Problem)\n",
    "一个旅行者随身携带一个背包可以放入背包的物品有n种,每种物品的重量和价值分别是$w_i$,$v_i$,i=1...n 如果背包的最大容量限制是b,怎样选择放入背包的物品以使得背包的价值最大.\n"
   ]
  },
  {
   "cell_type": "markdown",
   "metadata": {},
   "source": [
    "## 2.投资问题\n",
    "设有m元钱,n项投资，函数$f_i (x)$表示将x元钱投入到第i项项目所产生的效益,i =1,…,n.问：如何分配这 m 元钱，使得投资的总效益最高？\n"
   ]
  }
 ],
 "metadata": {
  "kernelspec": {
   "display_name": "Python 3.11.0 64-bit",
   "language": "python",
   "name": "python3"
  },
  "language_info": {
   "name": "python",
   "version": "3.11.0"
  },
  "orig_nbformat": 4,
  "vscode": {
   "interpreter": {
    "hash": "c261aea317cc0286b3b3261fbba9abdec21eaa57589985bb7a274bf54d6cc0a7"
   }
  }
 },
 "nbformat": 4,
 "nbformat_minor": 2
}
