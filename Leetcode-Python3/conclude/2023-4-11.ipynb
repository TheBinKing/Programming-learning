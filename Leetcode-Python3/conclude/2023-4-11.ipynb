{
 "cells": [
  {
   "cell_type": "markdown",
   "metadata": {},
   "source": [
    "## 1.背包问题(Knapsack Problem)\n",
    "一个旅行者随身携带一个背包可以放入背包的物品有n种,每种物品的重量和价值分别是$w_i$,$v_i$,i=1...n 如果背包的最大容量限制是b,怎样选择放入背包的物品以使得背包的价值最大.\n"
   ]
  },
  {
   "cell_type": "markdown",
   "metadata": {},
   "source": [
    "### 分析\n",
    "每个物品要么取要么不取，为典型0-1背包问题。\n",
    "\n",
    "0/1背包转移方程是dp[i][j] = max(dp [i - 1] [j]，dp[i - 1][j - w[i]] + v[i])，即决策dp[i][j]（前i个物品，j容量时）是从前一行只考虑前i-1个物品的情况下为基础，避免重复选择。\n"
   ]
  },
  {
   "cell_type": "code",
   "execution_count": null,
   "metadata": {},
   "outputs": [],
   "source": [
    "W = [2,3,4,5] #物品重量\n",
    "V = [3,4,5,6] #物品价值 \n",
    "\n",
    "n = 4 #物品数量\n",
    "c = 8 # 背包的总载重量\n",
    "\n",
    "def pakage_normal(n,b,W,V):\n",
    "    pakage=[]\n",
    "    for i in range(n):\n",
    "        _temp=[]\n",
    "        for j in range(b+1):\n",
    "            _temp.append(0)\n",
    "        pakage.append(_temp)\n",
    "    for i in range(n):\n",
    "        for j in range(1,b+1):\n",
    "            if j < W[i]:\n",
    "                pakage[i][j]=pakage[i-1][j]\n",
    "            else:\n",
    "                pakage[i][j]=max(pakage[i-1][j],pakage[i][j-W[i]]+V[i])\n",
    "    return pakage\n",
    "\n",
    "print (pakage_normal(n,c,W,V))\n",
    "\n",
    "#[[0, 0, 3, 3, 3, 3, 3, 3, 3], \n",
    "# [0, 0, 3, 4, 4, 7, 7, 7, 7],\n",
    "# [0, 0, 3, 4, 5, 7, 8, 9, 9], \n",
    "# [0, 0, 3, 4, 5, 7, 8, 9, 10]]"
   ]
  },
  {
   "cell_type": "markdown",
   "metadata": {},
   "source": [
    "## 2.投资问题\n",
    "设有m元钱,n项投资，函数$f_i (x)$表示将x元钱投入到第i项项目所产生的效益,i =1,…,n.问：如何分配这 m 元钱，使得投资的总效益最高？\n"
   ]
  },
  {
   "cell_type": "markdown",
   "metadata": {},
   "source": [
    "### 分析\n",
    "\n",
    "完全背包可以多次选择第i个物品，所以是考虑前i个物品的情况下为基础来决策，即同一行，推出转移方程：dp[i][j] = max(dp [i] [j]，dp[i - 1][j - w[i]] + v[i])\n",
    "\n",
    "本质上和上面的方法相同，只不过可以多次选择为完全背包问题"
   ]
  },
  {
   "cell_type": "code",
   "execution_count": null,
   "metadata": {},
   "outputs": [
    {
     "ename": "",
     "evalue": "",
     "output_type": "error",
     "traceback": [
      "\u001b[1;31mRunning cells with 'Python 3.11.0 64-bit' requires ipykernel package.\n",
      "\u001b[1;31mRun the following command to install 'ipykernel' into the Python environment. \n",
      "\u001b[1;31mCommand: 'c:/Python311/python.exe -m pip install ipykernel -U --user --force-reinstall'"
     ]
    }
   ],
   "source": [
    "W = [2,3,4,5] #物品重量(需要给第i个项目的x投资)\n",
    "V = [3,4,5,6] #物品价值(f_i(x)的具象表达) \n",
    "\n",
    "n = 4 #物品数量(n项投资)\n",
    "c = 8 # 背包的总载重量(m元钱)\n",
    "\n",
    "def pakage_normal(n,b,W,V):\n",
    "    pakage=[]\n",
    "    for i in range(n):\n",
    "        _temp=[]\n",
    "        for j in range(b+1):\n",
    "            _temp.append(0)\n",
    "        pakage.append(_temp)\n",
    "    for i in range(n):\n",
    "        for j in range(1,b+1):\n",
    "            if j < W[i]:\n",
    "                pakage[i][j]=pakage[i-1][j]\n",
    "            else:\n",
    "                pakage[i][j]=max(pakage[i][j],pakage[i][j-W[i]]+V[i])\n",
    "    return pakage\n",
    "\n",
    "print (pakage_normal(n,c,W,V))\n",
    "#[[0, 0, 3, 3, 6, 6, 9, 9, 12],\n",
    "# [0, 0, 3, 4, 6, 7, 9, 10, 12],\n",
    "# [0, 0, 3, 4, 6, 7, 9, 10, 12],\n",
    "# [0, 0, 3, 4, 6, 7, 9, 10, 12]] "
   ]
  }
 ],
 "metadata": {
  "kernelspec": {
   "display_name": "Python 3.11.0 64-bit",
   "language": "python",
   "name": "python3"
  },
  "language_info": {
   "name": "python",
   "version": "3.11.0"
  },
  "orig_nbformat": 4,
  "vscode": {
   "interpreter": {
    "hash": "c261aea317cc0286b3b3261fbba9abdec21eaa57589985bb7a274bf54d6cc0a7"
   }
  }
 },
 "nbformat": 4,
 "nbformat_minor": 2
}
