{
 "cells": [
  {
   "cell_type": "markdown",
   "metadata": {},
   "source": [
    "# 16 最接近的三个数\n",
    "给你一个长度为 n 的整数数组 nums 和 一个目标值 target。请你从 nums 中选出三个整数，使它们的和与 target 最接近。\n",
    "返回这三个数的和。\n",
    "假定每组输入只存在恰好一个解。\n",
    "\n",
    "```\n",
    "示例 1：\n",
    "输入：nums = [-1,2,1,-4], target = 1\n",
    "输出：2\n",
    "解释：与 target 最接近的和是 2 (-1 + 2 + 1 = 2) 。\n",
    "```"
   ]
  },
  {
   "cell_type": "code",
   "execution_count": null,
   "metadata": {},
   "outputs": [],
   "source": [
    "#\n",
    "# @lc app=leetcode.cn id=16 lang=python3\n",
    "#\n",
    "# [16] 最接近的三数之和\n",
    "#\n",
    "\n",
    "# @lc code=start\n",
    "class Solution:\n",
    "    def threeSumClosest(self, nums: List[int], target: int) -> int:\n",
    "        n=len(nums)\n",
    "        if n==3: #只有三个数直接相加\n",
    "            return nums[0]+nums[1]+nums[2]\n",
    "        d=float('inf')\n",
    "        nums=sorted(nums)\n",
    "        ans=0\n",
    "        for i in range(n):\n",
    "            min,max=i+1,n-1\n",
    "            while max>min:\n",
    "                x=(nums[i]+nums[max]+nums[min])-target\n",
    "                if abs(x)<d:\n",
    "                    d=abs(x)\n",
    "                    ans=nums[i]+nums[max]+nums[min]\n",
    "                if x>0:\n",
    "                    max-=1\n",
    "                elif x<0:\n",
    "                    min+=1\n",
    "                else:\n",
    "                    return target\n",
    "        return ans"
   ]
  },
  {
   "cell_type": "markdown",
   "metadata": {},
   "source": [
    "```\n",
    "Accepted\n",
    "98/98 cases passed (644 ms)\n",
    "Your runtime beats 84.92 % of python3 submissions\n",
    "Your memory usage beats 62.46 % of python3 submissions (15 MB)\n",
    "```"
   ]
  },
  {
   "cell_type": "markdown",
   "metadata": {},
   "source": [
    "# 17 电话号码的组合\n",
    "给定一个仅包含数字 2-9 的字符串，返回所有它能表示的字母组合。答案可以按 任意顺序 返回。\n",
    "\n",
    "给出数字到字母的映射如下（与电话按键相同）。注意 1 不对应任何字母。\n",
    "\n",
    "```\n",
    "        phone = {'2':['a','b','c'],\n",
    "                 '3':['d','e','f'],\n",
    "                 '4':['g','h','i'],\n",
    "                 '5':['j','k','l'],\n",
    "                 '6':['m','n','o'],\n",
    "                 '7':['p','q','r','s'],\n",
    "                 '8':['t','u','v'],\n",
    "                 '9':['w','x','y','z']}\n",
    "```\n",
    "\n",
    "```\n",
    "示例 1：\n",
    "\n",
    "输入：digits = \"23\"\n",
    "输出：[\"ad\",\"ae\",\"af\",\"bd\",\"be\",\"bf\",\"cd\",\"ce\",\"cf\"]\n",
    "```"
   ]
  },
  {
   "cell_type": "code",
   "execution_count": null,
   "metadata": {},
   "outputs": [],
   "source": [
    "#\n",
    "# @lc app=leetcode.cn id=17 lang=python3\n",
    "#\n",
    "# [17] 电话号码的字母组合\n",
    "#\n",
    "\n",
    "# @lc code=start\n",
    "class Solution:\n",
    "    def letterCombinations(self, digits: str) -> List[str]:\n",
    "        \"\"\"_summary_\n",
    "        回溯法，通常在二叉树中被使用，更广义上来说，可以处理类树状结构或树形问题\n",
    "        类似于先遍历到每一个叶子节点，然后返回的时候依次添加上中间的内容。\n",
    "        Args:\n",
    "            digits (str): _description_\n",
    "\n",
    "        Returns:\n",
    "            List[str]: _description_\n",
    "        \"\"\"\n",
    "        if not digits:\n",
    "            return []\n",
    "        phone = {'2':['a','b','c'],\n",
    "                 '3':['d','e','f'],\n",
    "                 '4':['g','h','i'],\n",
    "                 '5':['j','k','l'],\n",
    "                 '6':['m','n','o'],\n",
    "                 '7':['p','q','r','s'],\n",
    "                 '8':['t','u','v'],\n",
    "                 '9':['w','x','y','z']}\n",
    "        def backtrack(combination,next_digits):\n",
    "            if len(next_digits) == 0:\n",
    "                return output.append(combination)\n",
    "            else:\n",
    "                for letter in phone[next_digits[0]]:\n",
    "                    backtrack(combination+letter,next_digits[1:])\n",
    "               \n",
    "        output = []\n",
    "        if digits:\n",
    "            backtrack('',digits)\n",
    "        return output"
   ]
  },
  {
   "cell_type": "markdown",
   "metadata": {},
   "source": [
    "```\n",
    "Accepted\n",
    "25/25 cases passed (40 ms)\n",
    "Your runtime beats 38.53 % of python3 submissions\n",
    "Your memory usage beats 13.37 % of python3 submissions (15.2 MB)\n",
    "```"
   ]
  },
  {
   "cell_type": "markdown",
   "metadata": {},
   "source": [
    "# 19 删除链表的倒数第N个节点\n",
    "给你一个链表，删除链表的倒数第 n 个结点，并且返回链表的头结点。"
   ]
  },
  {
   "cell_type": "code",
   "execution_count": null,
   "metadata": {},
   "outputs": [],
   "source": [
    "#\n",
    "# @lc app=leetcode.cn id=19 lang=python3\n",
    "#\n",
    "# [19] 删除链表的倒数第 N 个结点\n",
    "#\n",
    "\n",
    "# @lc code=start\n",
    "# Definition for singly-linked list.\n",
    "# class ListNode:\n",
    "#     def __init__(self, val=0, next=None):\n",
    "#         self.val = val\n",
    "#         self.next = next\n",
    "class Solution:\n",
    "    def removeNthFromEnd(self, head: Optional[ListNode], n: int) -> Optional[ListNode]:\n",
    "        \"\"\"_summary_\n",
    "        首先从头节点开始对链表进行一次遍历，得到链表的长度L。\n",
    "        随后再从头节点开始对链表进行一次遍历，当遍历到第 L−n+1个节点时，它就是我们需要删除的节点\n",
    "\n",
    "        Args:\n",
    "            head (Optional[ListNode]): _description_\n",
    "            n (int): _description_\n",
    "\n",
    "        Returns:\n",
    "            Optional[ListNode]: _description_\n",
    "        \"\"\"\n",
    "        def getLength(head: ListNode) -> int:\n",
    "            length = 0\n",
    "            while head:\n",
    "                length += 1\n",
    "                head = head.next\n",
    "            return length\n",
    "        \n",
    "        dummy = ListNode(0, head)\n",
    "        length = getLength(head)\n",
    "        cur = dummy\n",
    "        for i in range(1, length - n + 1):\n",
    "            cur = cur.next\n",
    "        cur.next = cur.next.next\n",
    "        return dummy.next\n",
    "# @lc code=end"
   ]
  },
  {
   "cell_type": "markdown",
   "metadata": {},
   "source": [
    "```\n",
    "Accepted\n",
    "208/208 cases passed (40 ms)\n",
    "Your runtime beats 51.34 % of python3 submissions\n",
    "Your memory usage beats 80.78 % of python3 submissions (14.8 MB)\n",
    "```"
   ]
  }
 ],
 "metadata": {
  "kernelspec": {
   "display_name": "Python 3.11.0 64-bit",
   "language": "python",
   "name": "python3"
  },
  "language_info": {
   "name": "python",
   "version": "3.11.0"
  },
  "orig_nbformat": 4,
  "vscode": {
   "interpreter": {
    "hash": "c261aea317cc0286b3b3261fbba9abdec21eaa57589985bb7a274bf54d6cc0a7"
   }
  }
 },
 "nbformat": 4,
 "nbformat_minor": 2
}
