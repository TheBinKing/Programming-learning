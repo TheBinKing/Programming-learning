{
 "cells": [
  {
   "cell_type": "code",
   "execution_count": 3,
   "metadata": {},
   "outputs": [
    {
     "name": "stdout",
     "output_type": "stream",
     "text": [
      "[0, 1]\n"
     ]
    }
   ],
   "source": [
    "def twoSum_1(nums, target):\n",
    "    \"\"\"\n",
    "    :type nums: List[int]\n",
    "    :type target: int\n",
    "    :rtype: List[int]\n",
    "    \"\"\"\n",
    "    for i in range(len(nums)):\n",
    "        tmp = nums[i]\n",
    "        remain = nums[i+1:]\n",
    "        if target - tmp in remain:\n",
    "            return [i, remain.index(target-tmp)+i+1] \n",
    "def twoSum(nums, target):\n",
    "    \"\"\"\n",
    "    :type nums: List[int]\n",
    "    :type target: int\n",
    "    :rtype: List[int]\n",
    "    \"\"\" \n",
    "    dict = { }\n",
    "    for i in range(len(nums)):\n",
    "        if target - nums[i] not in dict:\n",
    "            dict[nums[i]] = i\n",
    "        else:\n",
    "            return [dict[target-nums[i]], i]\n",
    "        \n",
    "        \n",
    "nums=[2, 7, 11, 15]\n",
    "target=9\n",
    "print (twoSum(nums,target))"
   ]
  },
  {
   "cell_type": "code",
   "execution_count": 4,
   "metadata": {},
   "outputs": [
    {
     "name": "stdout",
     "output_type": "stream",
     "text": [
      "2\n"
     ]
    }
   ],
   "source": [
    "def mySqrt(x):\n",
    "    \"\"\"\n",
    "    :type x: int \n",
    "    :rtype: int \n",
    "    \"\"\"\n",
    "    if x < 2:\n",
    "        return x\n",
    "    left, right = 1, x // 2 \n",
    "    while left <= right:\n",
    "        mid = left + (right - left) // 2 \n",
    "        if mid > x / mid:\n",
    "            right = mid - 1\n",
    "        else:\n",
    "            left = mid + 1 \n",
    "    return left - 1\n",
    "print(mySqrt(4))"
   ]
  },
  {
   "cell_type": "code",
   "execution_count": null,
   "metadata": {},
   "outputs": [],
   "source": [
    "def climbStairs(self, n):\n",
    "    \"\"\"\n",
    "    :type n: int\n",
    "    :rtype: int\n",
    "    \"\"\"\n",
    "    prev, current = 0, 1\n",
    "    for i in range(n):\n",
    "        prev, current = current, prev + current \n",
    "        return current"
   ]
  },
  {
   "cell_type": "code",
   "execution_count": 9,
   "metadata": {},
   "outputs": [
    {
     "name": "stdout",
     "output_type": "stream",
     "text": [
      "True\n",
      "True\n"
     ]
    }
   ],
   "source": [
    "def anagramSolution1(s1,s2):\n",
    "    alist = list(s2)\n",
    "    pos1 = 0\n",
    "    stillOK = True\n",
    "    while pos1 < len(s1) and stillOK:\n",
    "        pos2 = 0\n",
    "        found = False\n",
    "        while pos2 < len(alist) and not found:\n",
    "            if s1[pos1] == alist[pos2]:\n",
    "                found = True\n",
    "            else:\n",
    "                pos2 = pos2 + 1 \n",
    "        if found:\n",
    "            alist[pos2] = None \n",
    "            pos1 = pos1 + 1 \n",
    "        else:\n",
    "            stillOK = False\n",
    "    return stillOK and (len(list(filter(None, alist))) == 0)\n",
    "\n",
    "def anagramSolution2(s1,s2):\n",
    "    alist1 = list(s1)\n",
    "    alist2 = list(s2)\n",
    "    alist1.sort()\n",
    "    alist2.sort()\n",
    "    pos = 0\n",
    "    matches = True\n",
    "    while pos < len(s1) and matches:\n",
    "        if alist1[pos]==alist2[pos]:\n",
    "            pos = pos + 1\n",
    "        else:\n",
    "            matches = False \n",
    "    return matches\n",
    "\n",
    "def anagramSolution3(s1,s2):\n",
    "    c1 = [0]*26 \n",
    "    c2 = [0]*26\n",
    "    for i in range(len(s1)):\n",
    "        pos = ord(s1[i])-ord('a') \n",
    "        c1[pos] = c1[pos] + 1\n",
    "    for i in range(len(s2)):\n",
    "        pos = ord(s2[i])-ord('a') \n",
    "        c2[pos] = c2[pos] + 1\n",
    "    j = 0\n",
    "    stillOK = True\n",
    "    while j<26 and stillOK:\n",
    "        if c1[j]==c2[j]:\n",
    "            j = j + 1 \n",
    "        else:\n",
    "            stillOK = False\n",
    "    return stillOK\n",
    "print(anagramSolution2('abcde','edcba'))\n"
   ]
  },
  {
   "cell_type": "code",
   "execution_count": null,
   "metadata": {},
   "outputs": [],
   "source": []
  }
 ],
 "metadata": {
  "kernelspec": {
   "display_name": "Python 3.8.16 ('a4')",
   "language": "python",
   "name": "python3"
  },
  "language_info": {
   "codemirror_mode": {
    "name": "ipython",
    "version": 3
   },
   "file_extension": ".py",
   "mimetype": "text/x-python",
   "name": "python",
   "nbconvert_exporter": "python",
   "pygments_lexer": "ipython3",
   "version": "3.8.16"
  },
  "orig_nbformat": 4,
  "vscode": {
   "interpreter": {
    "hash": "8a037f04698718e8155502464bfe903feb8c177ef00428dd2e4d2556d6cb59e9"
   }
  }
 },
 "nbformat": 4,
 "nbformat_minor": 2
}
