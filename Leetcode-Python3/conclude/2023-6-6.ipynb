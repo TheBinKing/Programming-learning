{
 "cells": [
  {
   "cell_type": "markdown",
   "metadata": {},
   "source": [
    "提供一种算法复杂度比$\\sqrt(n)$更低的判断素数的方法，并且给出算法复杂度分析过程\n"
   ]
  },
  {
   "cell_type": "markdown",
   "metadata": {},
   "source": [
    "有一种时间复杂度比 $\\sqrt{n}$ 更低的判断素数的方法，称为 Miller-Rabin 算法。它是一种基于随机化算法的素性测试方法，其时间复杂度为 $O(k \\log^3 n)$，其中 $k$ 为测试次数，通常取 $k=20$ 即可。\n",
    "\n",
    "Miller-Rabin 算法的基本思想是利用费马小定理和二次探测定理，通过随机化选取一些整数进行测试，以此推断出数字是否是素数。\n",
    "\n",
    "具体步骤如下：\n",
    "\n",
    "1. 将输入数字 $n$ 分解为 $n-1 = 2^s \\cdot d$，其中 $d$ 为奇数。\n",
    "\n",
    "2. 随机选择一个整数 $a \\in [2, n-2]$。\n",
    "\n",
    "3. 计算 $a^d \\mod n$，如果结果为 $1$ 或 $n-1$，则 $n$ 可能为素数，直接返回。\n",
    "\n",
    "4. 针对 $s-1$ 次进行计算，计算 $a^{2^r \\cdot d} \\mod n$，如果结果为 $n-1$，则 $n$ 可能为素数，直接返回。\n",
    "\n",
    "5. 如果 $n$ 不是素数，则返回合数。\n",
    "\n",
    "Miller-Rabin 算法的时间复杂度为 $O(k \\log^3 n)$，其中 $k$ 为测试次数。算法的正确性可以通过概率证明得到保证，即如果 $n$ 是合数，则有至少 $\\frac{3}{4}$ 的测试会返回合数，而如果 $n$ 是素数，则所有测试都会返回素数。\n",
    "\n",
    "需要注意的是，Miller-Rabin 算法是一种概率性算法，因此可能会出现误判。但由于其时间复杂度远低于 $\\sqrt{n}$，因此在实际应用中仍然有很大的优势。"
   ]
  },
  {
   "cell_type": "code",
   "execution_count": null,
   "metadata": {},
   "outputs": [],
   "source": [
    "import random\n",
    "\n",
    "def is_prime(n, k=20):\n",
    "    \"\"\"\n",
    "    判断一个数字是否为素数\n",
    "    :param n: 待判断的数字\n",
    "    :param k: 测试次数（默认为20）\n",
    "    :return: True（是素数）或 False（不是素数）\n",
    "    \"\"\"\n",
    "    if n <= 1:\n",
    "        return False\n",
    "    if n == 2 or n == 3:\n",
    "        return True\n",
    "    if n % 2 == 0:\n",
    "        return False\n",
    "\n",
    "    # 将 n-1 分解为 2^s * d 的形式\n",
    "    d = n - 1\n",
    "    s = 0\n",
    "    while d % 2 == 0:\n",
    "        d //= 2\n",
    "        s += 1\n",
    "\n",
    "    # 进行 k 次测试\n",
    "    for i in range(k):\n",
    "        a = random.randint(2, n-2)\n",
    "        x = pow(a, d, n)\n",
    "        if x == 1 or x == n-1:\n",
    "            continue\n",
    "        for j in range(s-1):\n",
    "            x = pow(x, 2, n)\n",
    "            if x == n-1:\n",
    "                break\n",
    "        else:\n",
    "            return False\n",
    "\n",
    "    return True"
   ]
  }
 ],
 "metadata": {
  "kernelspec": {
   "display_name": "Python 3.11.0 64-bit",
   "language": "python",
   "name": "python3"
  },
  "language_info": {
   "name": "python",
   "version": "3.11.0"
  },
  "orig_nbformat": 4,
  "vscode": {
   "interpreter": {
    "hash": "c261aea317cc0286b3b3261fbba9abdec21eaa57589985bb7a274bf54d6cc0a7"
   }
  }
 },
 "nbformat": 4,
 "nbformat_minor": 2
}
