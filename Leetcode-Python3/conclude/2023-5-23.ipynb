{
 "cells": [
  {
   "cell_type": "markdown",
   "metadata": {},
   "source": [
    "## 787. K站中转内最便宜的航班\n",
    "有 n 个城市通过一些航班连接。给你一个数组 flights ，其中 flights[i] = [fromi, toi, pricei] ，表示该航班都从城市 fromi 开始，以价格 pricei 抵达 toi。\n",
    "\n",
    "现在给定所有的城市和航班，以及出发城市 src 和目的地 dst，你的任务是找到出一条最多经过 k 站中转的路线，使得从 src 到 dst 的 价格最便宜 ，并返回该价格。 如果不存在这样的路线，则输出 -1。"
   ]
  },
  {
   "cell_type": "markdown",
   "metadata": {},
   "source": [
    "使用动态规划进行求解"
   ]
  },
  {
   "cell_type": "code",
   "execution_count": null,
   "metadata": {},
   "outputs": [],
   "source": [
    "#\n",
    "# @lc app=leetcode.cn id=787 lang=python3\n",
    "#\n",
    "# [787] K 站中转内最便宜的航班\n",
    "#\n",
    "# @lc code=start\n",
    "class Solution:\n",
    "    def findCheapestPrice(self, n: int, flights: List[List[int]], src: int, dst: int, k: int) -> int:\n",
    "        pre = [float(\"inf\")] * n\n",
    "        pre[src] = 0\n",
    "        for _ in range(k + 1):\n",
    "            cur = pre[:]\n",
    "            for i, j, p in flights:\n",
    "                if pre[i] + p < cur[j]:\n",
    "                    cur[j] = pre[i] + p\n",
    "            pre = cur[:]\n",
    "        return pre[dst] if pre[dst] < float(\"inf\") else -1\n"
   ]
  },
  {
   "cell_type": "markdown",
   "metadata": {},
   "source": [
    "Accepted\n",
    "52/52 cases passed (88 ms)\n",
    "Your runtime beats 77.28 % of python3 submissions\n",
    "Your memory usage beats 30.84 % of python3 submissions (17.2 MB)"
   ]
  },
  {
   "cell_type": "markdown",
   "metadata": {},
   "source": [
    "## 934 最短的桥\n",
    "\n",
    "给你一个大小为 n x n 的二元矩阵 grid ，其中 1 表示陆地，0 表示水域。\n",
    "\n",
    "岛 是由四面相连的 1 形成的一个最大组，即不会与非组内的任何其他 1 相连。grid 中 恰好存在两座岛 。\n",
    "\n",
    "你可以将任意数量的 0 变为 1 ，以使两座岛连接起来，变成 一座岛 。\n",
    "\n",
    "返回必须翻转的 0 的最小数目。"
   ]
  },
  {
   "cell_type": "markdown",
   "metadata": {},
   "source": [
    "分两步走：\n",
    "\n",
    "找到任意一座岛，BFS 扩展全岛\n",
    "对找到的岛以多源 BFS 分步拓展，找到另一座岛的最短步数即最短的桥"
   ]
  },
  {
   "cell_type": "code",
   "execution_count": null,
   "metadata": {},
   "outputs": [],
   "source": [
    "#\n",
    "# @lc app=leetcode.cn id=934 lang=python3\n",
    "#\n",
    "# [934] 最短的桥\n",
    "#\n",
    "# @lc code=start\n",
    "class Solution:\n",
    "    def shortestBridge(self, grid: List[List[int]]) -> int:\n",
    "        dir = ((0, 1), (1, 0), (0, -1), (-1, 0))\n",
    "        n, m = len(grid), len(grid[0])\n",
    "        # 先随便找一个岛\n",
    "        st = list()\n",
    "        for i, row in enumerate(grid):\n",
    "            for j, c in enumerate(row):\n",
    "                if c == 1:\n",
    "                    st.append((i, j))\n",
    "                    grid[i][j] = -1\n",
    "                    break\n",
    "            if st: break\n",
    "        # 扩展全岛入队\n",
    "        p = 0\n",
    "        while p < len(st):\n",
    "            i, j = st[p]\n",
    "            for dx, dy in dir:\n",
    "                x, y = i + dx, j + dy\n",
    "                if x < 0 or x >= n or y < 0 or y >= m or grid[x][y] != 1:\n",
    "                    continue\n",
    "                st.append((x, y))\n",
    "                grid[x][y] = -1\n",
    "            p += 1\n",
    "        # 多源 BFS 找最短路\n",
    "        for step in range(n * m + 1):\n",
    "            st2 = list()\n",
    "            for i, j in st:\n",
    "                for dx, dy in dir:\n",
    "                    x, y = i + dx, j + dy\n",
    "                    if x < 0 or x >= n or y < 0 or y >= m or grid[x][y] == -1:\n",
    "                        continue\n",
    "                    if grid[x][y] == 1:\n",
    "                        return step\n",
    "                    st2.append((x, y))\n",
    "                    grid[x][y] = -1\n",
    "            st = st2\n",
    "        return -1"
   ]
  },
  {
   "cell_type": "markdown",
   "metadata": {},
   "source": [
    "Accepted\n",
    "97/97 cases passed (108 ms)\n",
    "Your runtime beats 87.09 % of python3 submissions\n",
    "Your memory usage beats 67.19 % of python3 submissions (16.7 MB)"
   ]
  },
  {
   "cell_type": "markdown",
   "metadata": {},
   "source": [
    "## 前k个高频单词\n",
    "给定一个单词列表 words 和一个整数 k ，返回前 k 个出现次数最多的单词。\n",
    "\n",
    "返回的答案应该按单词出现频率由高到低排序。如果不同的单词有相同出现频率， 按字典顺序 排序。"
   ]
  },
  {
   "cell_type": "code",
   "execution_count": null,
   "metadata": {},
   "outputs": [],
   "source": [
    "#\n",
    "# @lc app=leetcode.cn id=692 lang=python3\n",
    "#\n",
    "# [692] 前K个高频单词\n",
    "# @lc code=start\n",
    "class Solution:\n",
    "    def topKFrequent(self, words: List[str], k: int) -> List[str]:\n",
    "        # 方法一：哈希表排序\n",
    "        # 注意：字典序是正序，出现次数为倒序\n",
    "        return [w for w,_ in sorted(Counter(words).items(),key=lambda x:(-x[1],x[0]))[:k]]\n",
    "# @lc code=end"
   ]
  },
  {
   "cell_type": "markdown",
   "metadata": {},
   "source": [
    "Accepted\n",
    "110/110 cases passed (44 ms)\n",
    "Your runtime beats 50.59 % of python3 submissions\n",
    "Your memory usage beats 11.27 % of python3 submissions (16.1 MB)"
   ]
  }
 ],
 "metadata": {
  "kernelspec": {
   "display_name": "Python 3.11.0 64-bit",
   "language": "python",
   "name": "python3"
  },
  "language_info": {
   "name": "python",
   "version": "3.11.0"
  },
  "orig_nbformat": 4,
  "vscode": {
   "interpreter": {
    "hash": "c261aea317cc0286b3b3261fbba9abdec21eaa57589985bb7a274bf54d6cc0a7"
   }
  }
 },
 "nbformat": 4,
 "nbformat_minor": 2
}
