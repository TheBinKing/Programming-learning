{
 "cells": [
  {
   "cell_type": "markdown",
   "metadata": {},
   "source": [
    "### 743 网络延迟\n",
    "有 n 个网络节点，标记为 1 到 n。\n",
    "\n",
    "给你一个列表 times，表示信号经过 有向 边的传递时间。 times[i] = (ui, vi, wi)，其中 ui 是源节点，vi 是目标节点， wi 是一个信号从源节点传递到目标节点的时间。\n",
    "\n",
    "现在，从某个节点 K 发出一个信号。需要多久才能使所有节点都收到信号？如果不能使所有节点收到信号，返回 -1 。"
   ]
  },
  {
   "cell_type": "markdown",
   "metadata": {},
   "source": [
    "输入：times = [[2,1,1],[2,3,1],[3,4,1]], n = 4, k = 2\n",
    "输出：2"
   ]
  },
  {
   "cell_type": "code",
   "execution_count": null,
   "metadata": {},
   "outputs": [],
   "source": [
    "#\n",
    "# @lc app=leetcode.cn id=743 lang=python3\n",
    "#\n",
    "# [743] 网络延迟时间\n",
    "#\n",
    "\n",
    "# @lc code=start\n",
    "# Dijkstra\n",
    "\n",
    "import collections\n",
    "class Solution:\n",
    "    def networkDelayTime(self, times: List[List[int]], n: int, k: int) -> int:\n",
    "        graph = collections.defaultdict(dict)\n",
    "        for s,e,c in times:\n",
    "            graph[s][e] = c\n",
    "        seen = [-1]*n\n",
    "        Q = [[0, k]] # 初始位置\n",
    "        heapq.heapify(Q)\n",
    "        while Q:\n",
    "            cost, cur_pos = heapq.heappop(Q)\n",
    "            if seen[cur_pos-1] == -1:\n",
    "                seen[cur_pos-1] = cost\n",
    "                for next_pos in graph[cur_pos]:\n",
    "                    heapq.heappush(Q, [cost + graph[cur_pos][next_pos], next_pos])\n",
    "        if -1 in seen:\n",
    "            return -1\n",
    "        return max(seen)\n",
    "# @lc code=end"
   ]
  },
  {
   "cell_type": "markdown",
   "metadata": {},
   "source": [
    "Accepted\n",
    "53/53 cases passed (120 ms)\n",
    "Your runtime beats 18.35 % of python3 submissions\n",
    "Your memory usage beats 14.79 % of python3 submissions (17.9 MB)"
   ]
  },
  {
   "cell_type": "markdown",
   "metadata": {},
   "source": [
    "### 847 访问所有节点的最短路径\n",
    "存在一个由 n 个节点组成的无向连通图，图中的节点按从 0 到 n - 1 编号。\n",
    "\n",
    "给你一个数组 graph 表示这个图。其中，graph[i] 是一个列表，由所有与节点 i 直接相连的节点组成。\n",
    "\n",
    "返回能够访问所有节点的最短路径的长度。你可以在任一节点开始和停止，也可以多次重访节点，并且可以重用边。"
   ]
  },
  {
   "cell_type": "markdown",
   "metadata": {},
   "source": [
    "输入：graph = [[1],[0,2,4],[1,3,4],[2],[1,2]]\n",
    "输出：4\n",
    "解释：一种可能的路径为 [0,1,4,2,3]"
   ]
  },
  {
   "cell_type": "code",
   "execution_count": null,
   "metadata": {},
   "outputs": [],
   "source": [
    "class Solution:\n",
    "    def shortestPathLength(self, graph: List[List[int]]) -> int:\n",
    "        n = len(graph)\n",
    "\n",
    "        # 1.初始化队列及标记数组，存入起点\n",
    "        q = deque((i, 1 << i, 0) for i in range(n)) # 三个属性分别为 idx, mask, dist；存入起点，起始距离0，标记\n",
    "        vis = {(i, 1 << i) for i in range(n)} # 节点编号及当前状态\n",
    "        \n",
    "        # 开始搜索\n",
    "        while q:\n",
    "            u, mask, dist = q.popleft() # 弹出队头元素\n",
    "            if mask == (1 << n) - 1: # 找到答案，返回结果\n",
    "                return dist\n",
    "            # 扩展\n",
    "            for x in graph[u]:\n",
    "                nextmask = mask | (1 << x)\n",
    "                if (x, nextmask) not in vis:\n",
    "                    q.append((x, nextmask, dist + 1))\n",
    "                    vis.add((x, nextmask))\n",
    "        \n",
    "        return 0\n"
   ]
  },
  {
   "cell_type": "markdown",
   "metadata": {},
   "source": [
    "Accepted\n",
    "51/51 cases passed (176 ms)\n",
    "Your runtime beats 67.29 % of python3 submissions\n",
    "Your memory usage beats 18.69 % of python3 submissions (20.9 MB)"
   ]
  }
 ],
 "metadata": {
  "kernelspec": {
   "display_name": "Python 3.11.0 64-bit",
   "language": "python",
   "name": "python3"
  },
  "language_info": {
   "name": "python",
   "version": "3.11.0"
  },
  "orig_nbformat": 4,
  "vscode": {
   "interpreter": {
    "hash": "c261aea317cc0286b3b3261fbba9abdec21eaa57589985bb7a274bf54d6cc0a7"
   }
  }
 },
 "nbformat": 4,
 "nbformat_minor": 2
}
