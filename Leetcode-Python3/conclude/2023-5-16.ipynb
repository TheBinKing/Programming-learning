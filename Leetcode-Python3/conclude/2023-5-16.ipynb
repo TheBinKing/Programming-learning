{
 "cells": [
  {
   "cell_type": "code",
   "execution_count": null,
   "metadata": {},
   "outputs": [],
   "source": [
    "## 240 搜索二维矩阵 II\n",
    "编写一个高效的算法来搜索 m x n 矩阵 matrix 中的一个目标值target。\n",
    "该矩阵具有以下特性：\n",
    "- 每行的元素从左到右升序排列。\n",
    "- 每列的元素从上到下升序排列。"
   ]
  },
  {
   "cell_type": "code",
   "execution_count": null,
   "metadata": {},
   "outputs": [],
   "source": [
    "#\n",
    "# @lc app=leetcode.cn id=240 lang=python3\n",
    "#\n",
    "# [240] 搜索二维矩阵 II\n",
    "#\n",
    "# @lc code=start\n",
    "class Solution:\n",
    "    def searchMatrix(self, M: List[List[int]], T: int) -> bool:\n",
    "        '''\n",
    "        装逼的最短代码\n",
    "        '''\n",
    "        return T in chain(*M)\n",
    "    def searchMatrix(self, matrix: List[List[int]], target: int) -> bool:\n",
    "        '''\n",
    "        Python3+指针\n",
    "        '''\n",
    "        m, n = len(matrix), len(matrix[0])\n",
    "        i, j = 0, n-1\n",
    "        while 0<=i<m and 0<=j<n and matrix[i][j] != target:\n",
    "            if matrix[i][j] > target:\n",
    "                j -= 1\n",
    "            else:\n",
    "                i += 1\n",
    "        return 0<=i<m and 0<=j<n and matrix[i][j] == target\n",
    "# @lc code=end"
   ]
  },
  {
   "cell_type": "markdown",
   "metadata": {},
   "source": [
    "Accepted\n",
    "130/130 cases passed (228 ms)\n",
    "Your runtime beats 5.43 % of python3 submissions\n",
    "Your memory usage beats 13.71 % of python3 submissions (22.3 MB)"
   ]
  },
  {
   "cell_type": "markdown",
   "metadata": {},
   "source": [
    "## 347 前K个高频元素\n",
    "给你一个整数数组nums和一个整数k,请你返回其中出现频率前k高的元素。你可以按任意顺序返回答案。"
   ]
  },
  {
   "cell_type": "code",
   "execution_count": null,
   "metadata": {},
   "outputs": [],
   "source": [
    "#\n",
    "# @lc app=leetcode.cn id=347 lang=python3\n",
    "# [347] 前 K 个高频元素\n",
    "# @lc code=start\n",
    "class Solution:\n",
    "    def topKFrequent(self, nums: List[int], k: int) -> List[int]:\n",
    "        '''\n",
    "        用字典排序，然后找K之前且数量最多的元素\n",
    "        '''\n",
    "        if len(nums) == 1:\n",
    "            return [k]\n",
    "        v1_dict = {}\n",
    "        for i in nums:\n",
    "            v1_dict[i] = v1_dict.get(i, 0) + 1\n",
    "        data = (sorted(v1_dict.items(), key = lambda x:x[1], reverse=True))[:k]\n",
    "        return [v[0] for v in data]"
   ]
  },
  {
   "cell_type": "markdown",
   "metadata": {},
   "source": [
    "Accepted\n",
    "21/21 cases passed (52 ms)\n",
    "Your runtime beats 37.68 % of python3 submissions\n",
    "Your memory usage beats 5.07 % of python3 submissions (20 MB)"
   ]
  },
  {
   "cell_type": "markdown",
   "metadata": {},
   "source": [
    "## 374 猜数字大小\n",
    "\n",
    "猜数字游戏的规则如下：\n",
    "\n",
    "- 每轮游戏，我都会从 1 到 n 随机选择一个数字。 请你猜选出的是哪个数字。\n",
    "- 如果你猜错了，我会告诉你，你猜测的数字比我选出的数字是大了还是小了。\n",
    "\n",
    "你可以通过调用一个预先定义好的接口 int guess(int num) 来获取猜测结果，返回值一共有 3 种可能的情况（-1，1 或 0）：\n",
    "\n",
    "- -1：我选出的数字比你猜的数字小 pick < num\n",
    "- 1：我选出的数字比你猜的数字大 pick > num\n",
    "- 0：我选出的数字和你猜的数字一样。恭喜！你猜对了！pick == num\n",
    "返回我选出的数字。"
   ]
  },
  {
   "cell_type": "code",
   "execution_count": null,
   "metadata": {},
   "outputs": [],
   "source": [
    "class Solution:\n",
    "    def guessNumber(self, n: int) -> int:\n",
    "        left, right = 1, n\n",
    "        while left < right:\n",
    "            mid = (left + right) // 2\n",
    "            if guess(mid) <= 0:\n",
    "                right = mid   # 答案在区间 [left, mid] 中\n",
    "            else:\n",
    "                left = mid + 1   # 答案在区间 [mid+1, right] 中\n",
    "        \n",
    "        # 此时有 left == right，区间缩为一个点，即为答案\n",
    "        return left\n"
   ]
  },
  {
   "cell_type": "markdown",
   "metadata": {},
   "source": [
    "Accepted\n",
    "25/25 cases passed (52 ms)\n",
    "Your runtime beats 9.81 % of python3 submissions\n",
    "Your memory usage beats 9.26 % of python3 submissions (16 MB)"
   ]
  }
 ],
 "metadata": {
  "kernelspec": {
   "display_name": "Python 3.11.0 64-bit",
   "language": "python",
   "name": "python3"
  },
  "language_info": {
   "name": "python",
   "version": "3.11.0"
  },
  "orig_nbformat": 4,
  "vscode": {
   "interpreter": {
    "hash": "c261aea317cc0286b3b3261fbba9abdec21eaa57589985bb7a274bf54d6cc0a7"
   }
  }
 },
 "nbformat": 4,
 "nbformat_minor": 2
}
