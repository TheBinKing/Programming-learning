{
 "cells": [
  {
   "cell_type": "markdown",
   "metadata": {},
   "source": [
    "## 85最大矩形\n",
    "\n",
    "在进行85之前建议进行84的训练，这样上85才不会显得抽象，理解上可以实现螺旋上升的效果，而非一蹴而就显得难以入手。\n",
    "\n",
    "### 84柱状图中最大的矩形\n",
    "\n",
    "给定 n 个非负整数，用来表示柱状图中各个柱子的高度。每个柱子彼此相邻，且宽度为 1 。\n",
    "\n",
    "求在该柱状图中，能够勾勒出来的矩形的最大面积。\n",
    "\n",
    "在该题中，使用单调栈的思想能够很好的解决这个问题。\n",
    "\n",
    "单调栈的特点在于： 当遇见大数的时候， 压入堆栈，等待之后处理。 当遇见小数c的时候，意味着大数b的右边界c已经确定了。 这时候开始pop， 而以被pop出来的值（b）为高度的矩形的左右边界需要被确定。 其右边界就是当前的小数。即为c。左边界是堆栈下一层的元素，因为下一层的元素一定比当前小。且是第一小的元素。这时候a也确定了\n",
    "我们实现的过程中注意在头尾增加两个冗余数，第一个为了算法正常进展，最后一个是为了防止漏除终止时候，前面的结算。\n"
   ]
  },
  {
   "cell_type": "code",
   "execution_count": null,
   "metadata": {},
   "outputs": [],
   "source": [
    "class Solution:\n",
    "    def largestRectangleArea(self, heights: List[int]) -> int:\n",
    "        \"\"\"_summary_\n",
    "        单调栈\n",
    "        Args:\n",
    "            heights (List[int]): _description_\n",
    "\n",
    "        Returns:\n",
    "            int: _description_\n",
    "        \"\"\"\n",
    "        heights.insert(0,0)\n",
    "        heights.append(0)\n",
    "        maxarea=0\n",
    "        stack=[]\n",
    "        for i,value in enumerate(heights):\n",
    "            if not stack:\n",
    "                stack.append(i)\n",
    "                continue\n",
    "            if value>=heights[stack[-1]]:\n",
    "                stack.append(i)\n",
    "            else:\n",
    "                while heights[stack[-1]]>value:\n",
    "                    right=stack.pop()\n",
    "                    maxarea=max(maxarea,heights[right]*(i-stack[-1]-1))\n",
    "                stack.append(i)\n",
    "        return maxarea"
   ]
  },
  {
   "cell_type": "markdown",
   "metadata": {},
   "source": [
    "Accepted\n",
    "98/98 cases passed (288 ms)\n",
    "Your runtime beats 61.53 % of python3 submissions\n",
    "Your memory usage beats 36.49 % of python3 submissions (28 MB)"
   ]
  },
  {
   "cell_type": "markdown",
   "metadata": {},
   "source": [
    "### 85最大矩形\n",
    "接下来我们继续看85题。\n",
    "给定一个仅包含 0 和 1 、大小为 rows x cols 的二维二进制矩阵，找出只包含 1 的最大矩形，并返回其面积。"
   ]
  },
  {
   "cell_type": "markdown",
   "metadata": {},
   "source": []
  }
 ],
 "metadata": {
  "kernelspec": {
   "display_name": "Python 3.11.0 64-bit",
   "language": "python",
   "name": "python3"
  },
  "language_info": {
   "name": "python",
   "version": "3.11.0"
  },
  "orig_nbformat": 4,
  "vscode": {
   "interpreter": {
    "hash": "c261aea317cc0286b3b3261fbba9abdec21eaa57589985bb7a274bf54d6cc0a7"
   }
  }
 },
 "nbformat": 4,
 "nbformat_minor": 2
}
