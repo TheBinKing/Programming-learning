{
 "cells": [
  {
   "cell_type": "markdown",
   "metadata": {},
   "source": [
    "## 85最大矩形\n",
    "\n",
    "在进行85之前建议进行84的训练，这样上85才不会显得抽象，理解上可以实现螺旋上升的效果，而非一蹴而就显得难以入手。\n",
    "\n",
    "### 84柱状图中最大的矩形\n",
    "\n",
    "给定 n 个非负整数，用来表示柱状图中各个柱子的高度。每个柱子彼此相邻，且宽度为 1 。\n",
    "\n",
    "求在该柱状图中，能够勾勒出来的矩形的最大面积。\n",
    "\n",
    "在该题中，使用单调栈的思想能够很好的解决这个问题。\n",
    "\n",
    "单调栈的特点在于： 当遇见大数的时候， 压入堆栈，等待之后处理。 当遇见小数c的时候，意味着大数b的右边界c已经确定了。 这时候开始pop， 而以被pop出来的值（b）为高度的矩形的左右边界需要被确定。 其右边界就是当前的小数。即为c。左边界是堆栈下一层的元素，因为下一层的元素一定比当前小。且是第一小的元素。这时候a也确定了\n",
    "我们实现的过程中注意在头尾增加两个冗余数，第一个为了算法正常进展，最后一个是为了防止漏除终止时候，前面的结算。\n"
   ]
  },
  {
   "cell_type": "code",
   "execution_count": null,
   "metadata": {},
   "outputs": [],
   "source": [
    "class Solution:\n",
    "    def largestRectangleArea(self, heights: List[int]) -> int:\n",
    "        \"\"\"_summary_\n",
    "        单调栈\n",
    "        Args:\n",
    "            heights (List[int]): _description_\n",
    "\n",
    "        Returns:\n",
    "            int: _description_\n",
    "        \"\"\"\n",
    "        heights.insert(0,0)\n",
    "        heights.append(0)\n",
    "        maxarea=0\n",
    "        stack=[]\n",
    "        for i,value in enumerate(heights):\n",
    "            if not stack:\n",
    "                stack.append(i)\n",
    "                continue\n",
    "            if value>=heights[stack[-1]]:\n",
    "                stack.append(i)\n",
    "            else:\n",
    "                while heights[stack[-1]]>value:\n",
    "                    right=stack.pop()\n",
    "                    maxarea=max(maxarea,heights[right]*(i-stack[-1]-1))\n",
    "                stack.append(i)\n",
    "        return maxarea"
   ]
  },
  {
   "cell_type": "markdown",
   "metadata": {},
   "source": [
    "Accepted\n",
    "98/98 cases passed (288 ms)\n",
    "Your runtime beats 61.53 % of python3 submissions\n",
    "Your memory usage beats 36.49 % of python3 submissions (28 MB)"
   ]
  },
  {
   "cell_type": "markdown",
   "metadata": {},
   "source": [
    "### 85最大矩形\n",
    "接下来我们继续看85题。\n",
    "给定一个仅包含 0 和 1 、大小为 rows x cols 的二维二进制矩阵，找出只包含 1 的最大矩形，并返回其面积。"
   ]
  },
  {
   "cell_type": "code",
   "execution_count": null,
   "metadata": {},
   "outputs": [],
   "source": [
    "class Solution:\n",
    "    def maximalRectangle(self, matrix: List[List[str]]) -> int:\n",
    "        if not matrix:return 0\n",
    "        m,n=len(matrix),len(matrix[0])\n",
    "        # 记录当前位置上方连续“1”的个数\n",
    "        pre=[0]*(n+1)\n",
    "        res=0\n",
    "        for i in range(m):\n",
    "            for j in range(n):\n",
    "                # 前缀和\n",
    "                pre[j]=pre[j]+1 if matrix[i][j]==\"1\" else 0\n",
    "\n",
    "            # 单调栈\n",
    "            stack=[-1]\n",
    "            for k,num in enumerate(pre):\n",
    "                while stack and pre[stack[-1]]>num:\n",
    "                    index=stack.pop()\n",
    "                    res=max(res,pre[index]*(k-stack[-1]-1))\n",
    "                stack.append(k)\n",
    "\n",
    "        return res\n",
    "\n",
    "    def largestRectangleArea(self,heights):\n",
    "        \"\"\"_summary_\n",
    "        单调栈\n",
    "        Args:\n",
    "            heights (List[int]): _description_\n",
    "\n",
    "        Returns:\n",
    "            int: _description_\n",
    "        \"\"\"\n",
    "        heights.insert(0,0)\n",
    "        heights.append(0)\n",
    "        maxarea=0\n",
    "        stack=[]\n",
    "        for i,value in enumerate(heights):\n",
    "            if not stack:\n",
    "                stack.append(i)\n",
    "                continue\n",
    "            if value>=heights[stack[-1]]:\n",
    "                stack.append(i)\n",
    "            else:\n",
    "                while heights[stack[-1]]>value:\n",
    "                    right=stack.pop()\n",
    "                    maxarea=max(maxarea,heights[right]*(i-stack[-1]-1))\n",
    "                stack.append(i)\n",
    "        return maxarea\n",
    "    def maximalRectangle0(self, matrix: List[List[str]]) -> int:\n",
    "        maxarea=0\n",
    "        tag=0\n",
    "        for z in range(len(matrix)):\n",
    "            height=[]\n",
    "            for row in matrix:\n",
    "                _temp=0\n",
    "                for col in range(tag,len(row)):\n",
    "                    if row[col]==1:\n",
    "                        _temp+=1\n",
    "                    else:\n",
    "                        height.append(_temp)\n",
    "                        break\n",
    "            tag+=1       \n",
    "            maxarea=max(maxarea,self.largestRectangleArea(height))\n",
    "        return maxarea"
   ]
  },
  {
   "cell_type": "markdown",
   "metadata": {},
   "source": [
    "Accepted\n",
    "74/74 cases passed (104 ms)\n",
    "Your runtime beats 67.26 % of python3 submissions\n",
    "Your memory usage beats 20.33 % of python3 submissions (21.5 MB)"
   ]
  },
  {
   "cell_type": "markdown",
   "metadata": {},
   "source": [
    "## 乘积最大子数组\n",
    "给你一个整数数组 nums ，请你找出数组中乘积最大的非空连续子数组（该子数组中至少包含一个数字），并返回该子数组所对应的乘积。\n",
    "\n",
    "测试用例的答案是一个32位整数。子数组是数组的连续子序列。\n",
    "\n",
    "\n",
    "```\n",
    "示例 1:\n",
    "输入: nums = [2,3,-2,4]\n",
    "输出: 6\n",
    "解释: 子数组 [2,3] 有最大乘积 6。\n",
    "```\n"
   ]
  },
  {
   "cell_type": "code",
   "execution_count": null,
   "metadata": {},
   "outputs": [],
   "source": [
    "class Solution:\n",
    "    def maxProduct(self, nums: List[int]) -> int:\n",
    "        \"\"\"_summary_\n",
    "        动态规划问题，唯一需要注意的问题就是，最小值有可能乘了以后变成最大值（eg负数）\n",
    "        Args:\n",
    "            nums (List[int]): _description_\n",
    "\n",
    "        Returns:\n",
    "            int: _description_\n",
    "        \"\"\"\n",
    "        if not nums: return \n",
    "        res = nums[0]\n",
    "        pre_max = nums[0]\n",
    "        pre_min = nums[0]\n",
    "        for num in nums[1:]:\n",
    "            cur_max = max(pre_max * num, pre_min * num, num)\n",
    "            cur_min = min(pre_max * num, pre_min * num, num)\n",
    "            res = max(res, cur_max)\n",
    "            pre_max = cur_max\n",
    "            pre_min = cur_min\n",
    "        return res"
   ]
  },
  {
   "cell_type": "markdown",
   "metadata": {},
   "source": [
    "Accepted\n",
    "190/190 cases passed (48 ms)\n",
    "Your runtime beats 83.49 % of python3 submissions\n",
    "Your memory usage beats 51.4 % of python3 submissions (15.7 MB)"
   ]
  }
 ],
 "metadata": {
  "kernelspec": {
   "display_name": "Python 3.11.0 64-bit",
   "language": "python",
   "name": "python3"
  },
  "language_info": {
   "name": "python",
   "version": "3.11.0"
  },
  "orig_nbformat": 4,
  "vscode": {
   "interpreter": {
    "hash": "c261aea317cc0286b3b3261fbba9abdec21eaa57589985bb7a274bf54d6cc0a7"
   }
  }
 },
 "nbformat": 4,
 "nbformat_minor": 2
}
