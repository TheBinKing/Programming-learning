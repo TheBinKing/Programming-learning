{
 "cells": [
  {
   "cell_type": "markdown",
   "metadata": {},
   "source": [
    "### 235 二叉搜索树的最近公共祖先\n",
    "\n",
    "给定一个二叉搜索树, 找到该树中两个指定节点的最近公共祖先。\n",
    "\n",
    "百度百科中最近公共祖先的定义为：“对于有根树 T 的两个结点 p、q，最近公共祖先表示为一个结点 x，满足 x 是 p、q 的祖先且 x 的深度尽可能大（一个节点也可以是它自己的祖先）。”\n",
    "\n",
    "例如，给定如下二叉搜索树:  root = [6,2,8,0,4,7,9,null,null,3,5]\n",
    "\n",
    "```\n",
    "示例 1:\n",
    "输入: root = [6,2,8,0,4,7,9,null,null,3,5], p = 2, q = 8\n",
    "输出: 6 \n",
    "解释: 节点 2 和节点 8 的最近公共祖先是 6。\n",
    "```"
   ]
  },
  {
   "cell_type": "markdown",
   "metadata": {},
   "source": [
    "#### 解析\n",
    "本题给定的树是一个二叉搜索树，本身具有排序的属性。我们可以利用这个属性对原先二叉树的条件判断进行优化。\n",
    "如果是二叉树的环境，我们需要对给定的两个节点p,q进行判断。\n",
    "\n",
    ">1.p,q节点在当前root的左右子树，则公共祖先为root。\n",
    "\n",
    ">2.p,q节点都在当前root的左/右子树，则继续探索左/右子树。\n",
    "\n",
    ">3.root节点为p/q其中一个，则公共祖先为root。\n",
    "\n",
    "对于一个已经排序好的二叉搜索树而言，可以用数值的判定去做子树的判断。\n",
    ">1.root的值在(p,q)内，则公共祖先为root。\n",
    "\n",
    ">2.p,q的值同时大于/小于root值，则向右/左子树继续遍历。\n",
    "\n",
    ">3.p,q的值有一个等于root，公共祖先为root。\n"
   ]
  },
  {
   "cell_type": "code",
   "execution_count": null,
   "metadata": {},
   "outputs": [],
   "source": [
    "\n",
    "class Solution:\n",
    "    def lowestCommonAncestor(self, root: 'TreeNode', p: 'TreeNode', q: 'TreeNode') -> 'TreeNode':\n",
    "        # 如果当前节点的值 node.val 大于 p 和 q 的值，那证明 p 和 q 在 node 的左子树中\n",
    "        if root.val > p.val and root.val > q.val:\n",
    "            # 遍历左子树\n",
    "            return self.lowestCommonAncestor(root.left, p, q)\n",
    "        # 如果当前节点的值 node.val 小于 p 和 q 的值，那证明 p 和 q 在 node 的右子树中\n",
    "        if root.val < p.val and root.val < q.val:\n",
    "            # 遍历右子树\n",
    "            return self.lowestCommonAncestor(root.right, p, q)\n",
    "        # 如果当前节点的值 node.val 在 [p, q] 之间，那 node 就是最近公共祖先。\n",
    "        return root"
   ]
  },
  {
   "cell_type": "markdown",
   "metadata": {},
   "source": [
    "Accepted\n",
    "30/30 cases passed (108 ms)\n",
    "Your runtime beats 5.38 % of python3 submissions\n",
    "Your memory usage beats 5.23 % of python3 submissions (19.3 MB)"
   ]
  },
  {
   "cell_type": "markdown",
   "metadata": {},
   "source": [
    "### 110 平衡二叉树\n",
    "给定一个二叉树，判断它是否是高度平衡的二叉树。\n",
    "\n",
    "本题中，一棵高度平衡二叉树定义为：\n",
    "\n",
    "一个二叉树每个节点 的左右两个子树的高度差的绝对值不超过 1 。\n"
   ]
  },
  {
   "cell_type": "markdown",
   "metadata": {},
   "source": [
    "#### 解析\n",
    "\n",
    "通过递归去判断是否平衡。\n",
    ">1.当节点左右子树的差小于2，返回以该节点为root的最大高度(max(left, right) + 1)\n",
    "\n",
    ">2.当节点左右子树差大于等于2，直接返回-1，表示不为平衡树\n",
    "\n",
    ">3.当到达叶子节点的时候，返回高度为0\n",
    "\n",
    ">4.当子树高度为-1说明子树不是平衡树，返回-1.\n"
   ]
  },
  {
   "cell_type": "code",
   "execution_count": null,
   "metadata": {},
   "outputs": [],
   "source": [
    "class Solution:\n",
    "    def isBalanced(self, root: Optional[TreeNode]) -> bool:\n",
    "\n",
    "        return self.recur(root) != -1\n",
    "\n",
    "    def recur(self, root):\n",
    "        if not root: return 0\n",
    "        left = self.recur(root.left)\n",
    "        if left == -1: return -1\n",
    "        right = self.recur(root.right)\n",
    "        if right == -1: return -1\n",
    "        return max(left, right) + 1 if abs(left - right) < 2 else -1\n"
   ]
  },
  {
   "cell_type": "markdown",
   "metadata": {},
   "source": [
    "Accepted\n",
    "228/228 cases passed (40 ms)\n",
    "Your runtime beats 97.9 % of python3 submissions\n",
    "Your memory usage beats 21.6 % of python3 submissions (20 MB)"
   ]
  },
  {
   "cell_type": "markdown",
   "metadata": {},
   "source": [
    "### 257 二叉树所有路径\n",
    "\n",
    "给你一个二叉树的根节点 root ，按 任意顺序 ，返回所有从根节点到叶子节点的路径。\n",
    "\n",
    "叶子节点 是指没有子节点的节点。\n",
    "```\n",
    "输入：root = [1,2,3,null,5]\n",
    "输出：[\"1->2->5\",\"1->3\"]\n",
    "```\n"
   ]
  },
  {
   "cell_type": "markdown",
   "metadata": {},
   "source": [
    "#### 解析\n",
    "前序遍历"
   ]
  },
  {
   "cell_type": "code",
   "execution_count": null,
   "metadata": {},
   "outputs": [],
   "source": [
    "class Solution:\n",
    "    def binaryTreePaths(self, root: Optional[TreeNode]) -> List[str]:\n",
    "        res = []\n",
    "        self.getPaths(root, '', res)\n",
    "        return res\n",
    "    \n",
    "    def getPaths(self, root, path, res):\n",
    "        if not root:\n",
    "            return\n",
    "        # 节点值加入当前路径\n",
    "        path += str(root.val)\n",
    "        # 如果当前节点是叶子节点，将当前路径加入结果集\n",
    "        if root.left == None and root.right == None:\n",
    "            res.append(path)\n",
    "        # 如果当前节点不是叶子节点，继续遍历左子树和右子树。\n",
    "        else:\n",
    "            path += '->'\n",
    "            self.getPaths(root.left, path, res)\n",
    "            self.getPaths(root.right, path, res)\n"
   ]
  },
  {
   "cell_type": "markdown",
   "metadata": {},
   "source": [
    "Accepted\n",
    "208/208 cases passed (40 ms)\n",
    "Your runtime beats 51.58 % of python3 submissions\n",
    "Your memory usage beats 73.83 % of python3 submissions (14.9 MB)"
   ]
  }
 ],
 "metadata": {
  "kernelspec": {
   "display_name": "Python 3.11.0 64-bit",
   "language": "python",
   "name": "python3"
  },
  "language_info": {
   "name": "python",
   "version": "3.11.0"
  },
  "orig_nbformat": 4,
  "vscode": {
   "interpreter": {
    "hash": "c261aea317cc0286b3b3261fbba9abdec21eaa57589985bb7a274bf54d6cc0a7"
   }
  }
 },
 "nbformat": 4,
 "nbformat_minor": 2
}
