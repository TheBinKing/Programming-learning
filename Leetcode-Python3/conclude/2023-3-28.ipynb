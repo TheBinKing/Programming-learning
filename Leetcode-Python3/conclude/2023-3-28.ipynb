{
 "cells": [
  {
   "cell_type": "markdown",
   "metadata": {},
   "source": [
    "## 最长回文子串\n",
    "给你一个字符串 s，找到 s 中最长的回文子串。\n",
    "\n",
    "如果字符串的反序与原始字符串相同，则该字符串称为回文字符串。\n",
    "```\n",
    "输入：s = \"babad\"\n",
    "输出：\"bab\"\n",
    "解释：\"aba\" 同样是符合题意的答案。\n",
    "```"
   ]
  },
  {
   "cell_type": "code",
   "execution_count": null,
   "metadata": {},
   "outputs": [],
   "source": [
    "class Solution:\n",
    "    def longestPalindrome(self, s: str) -> str:\n",
    "        \"\"\"_summary_\n",
    "        常规动态规划\n",
    "        1.特判\n",
    "        2.初始化参数，最大长度，dp数组\n",
    "        3.判断长度为1都为回文，长度为2判断是否为回文\n",
    "        3.长度为3的进行遍历[3,n+1)\n",
    "        Args:\n",
    "            s (str): _description_\n",
    "\n",
    "        Returns:\n",
    "            str: _description_\n",
    "        \"\"\"\n",
    "        if(not s or len(s)==1):\n",
    "            return s\n",
    "        n=len(s)\n",
    "        dp=[[False]*n for _ in range(n)]\n",
    "        max_len=1\n",
    "        start=0\n",
    "        for i in range(n):\n",
    "            dp[i][i]=True\n",
    "            if(i<n-1 and s[i]==s[i+1]):\n",
    "                dp[i][i+1]=True\n",
    "                start=i\n",
    "                max_len=2\n",
    "        for l in range(3,n+1):\n",
    "            for i in range(n+1-l):\n",
    "                r=i+l-1\n",
    "                if(s[i]==s[r] and dp[i+1][r-1]):\n",
    "                    dp[i][r]=True\n",
    "                    start=i\n",
    "                    max_len=l\n",
    "        return s[start:start+max_len]\n",
    "\n",
    "    def longestPalindrome0(self, s):\n",
    "        \"\"\"_summary_\n",
    "        设置一个最长回文子串res，要寻找最长的回文子串，所以其长度只会越来越长\n",
    "        遍历整个数组，i为指针。根据i的位置向前找回文子串，\n",
    "        这里要注意，我们只需要去找长度大于res的回文子串就可以了，\n",
    "        所以定位到回文子串的开头的前一位应该是：start = i - len(s) - 1, \n",
    "        但是start可能会小于0，因此做一个截断start = max(0, i-len(s)-1)。\n",
    "\n",
    "        根据选定的回文子串的索引范围，对字符串做切片，并判断是否是回文子串。\n",
    "        这里需要注意，此时分为开头讨论的两种情况，\n",
    "        即奇数个回文子串和偶数个回文子串，之后把寻找到的回文子串重新赋值给res，\n",
    "        这样res的长度会随着指针的遍历越来越大，遍历结束后，res即为最长回文子串。\n",
    "\n",
    "        Args:\n",
    "            s (_type_): _description_\n",
    "\n",
    "        Returns:\n",
    "            _type_: _description_\n",
    "        \"\"\"\n",
    "        res = ''\n",
    "        for i in range(len(s)):\n",
    "            start = max(i - len(res) -1, 0)\n",
    "            temp = s[start: i+1]\n",
    "            if temp == temp[::-1]:\n",
    "                res = temp\n",
    "            else:\n",
    "                temp = temp[1:]\n",
    "                if temp == temp[::-1]:\n",
    "                    res = temp\n",
    "        return res"
   ]
  },
  {
   "cell_type": "markdown",
   "metadata": {},
   "source": [
    "```\n",
    "Accepted\n",
    "141/141 cases passed (3156 ms)\n",
    "Your runtime beats 47.68 % of python3 submissions\n",
    "Your memory usage beats 17.98 % of python3 submissions (22.9 MB)\n",
    "```\n",
    "\n",
    "```\n",
    "Accepted\n",
    "141/141 cases passed (76 ms)\n",
    "Your runtime beats 96.77 % of python3 submissions\n",
    "Your memory usage beats 68.94 % of python3 submissions (15.1 MB)```"
   ]
  },
  {
   "cell_type": "markdown",
   "metadata": {},
   "source": [
    "## 最小路径和\n",
    "给定一个包含非负整数的 m x n 网格 grid ，请找出一条从左上角到右下角的路径，使得路径上的数字总和为最小。\n",
    "\n",
    "说明：每次只能向下或者向右移动一步。\n",
    "\n",
    "```\n",
    "输入：grid = [[1,3,1],[1,5,1],[4,2,1]]\n",
    "输出：7\n",
    "解释：因为路径 1→3→1→1→1 的总和最小。\n",
    "```"
   ]
  },
  {
   "cell_type": "code",
   "execution_count": null,
   "metadata": {},
   "outputs": [],
   "source": [
    "class Solution:\n",
    "    def minPathSum(self, grid: List[List[int]]) -> int:\n",
    "        \"\"\"_summary_\n",
    "        动态规划，\n",
    "        每次只能向右a[i][j+1]和向下a[i+1][j]\n",
    "        注意两个边界，第一层和第一列，他们实现的路径是只能向下和向右才能到达，\n",
    "        所以他们的最小值比较更加特殊。是只有一种情况的\n",
    "        其他的就需要通过min的方法进行动态更新的。\n",
    "        Args:\n",
    "            grid (List[List[int]]): _description_\n",
    "\n",
    "        Returns:\n",
    "            int: _description_\n",
    "        \"\"\"\n",
    "        for i in range(len(grid)):\n",
    "            for j in range(len(grid[0])):\n",
    "                if i == j == 0: continue\n",
    "                elif i == 0:  grid[i][j] = grid[i][j - 1] + grid[i][j]\n",
    "                elif j == 0:  grid[i][j] = grid[i - 1][j] + grid[i][j]\n",
    "                else: grid[i][j] = min(grid[i - 1][j], grid[i][j - 1]) + grid[i][j]\n",
    "        return grid[-1][-1]\n"
   ]
  },
  {
   "cell_type": "markdown",
   "metadata": {},
   "source": [
    "```\n",
    "Accepted\n",
    "61/61 cases passed (56 ms)\n",
    "Your runtime beats 29.19 % of python3 submissions\n",
    "Your memory usage beats 47.48 % of python3 submissions (17 MB)\n",
    "```"
   ]
  },
  {
   "cell_type": "markdown",
   "metadata": {},
   "source": [
    "## 三角形最小路径和\n",
    "给定一个三角形 triangle ，找出自顶向下的最小路径和。\n",
    "\n",
    "每一步只能移动到下一行中相邻的结点上。相邻的结点 在这里指的是 下标 与 上一层结点下标 相同或者等于 上一层结点下标 + 1 的两个结点。也就是说，如果正位于当前行的下标 i ，那么下一步可以移动到下一行的下标 i 或 i + 1 。\n",
    "```\n",
    "输入：triangle = [[2],[3,4],[6,5,7],[4,1,8,3]]\n",
    "输出：11\n",
    "解释：如下面简图所示：\n",
    "   2\n",
    "  3 4\n",
    " 6 5 7\n",
    "4 1 8 3\n",
    "自顶向下的最小路径和为 11（即，2 + 3 + 5 + 1 = 11）。\n",
    "```"
   ]
  },
  {
   "cell_type": "code",
   "execution_count": null,
   "metadata": {},
   "outputs": [],
   "source": [
    "class Solution:\n",
    "    def minimumTotal(self, triangle: List[List[int]]) -> int:\n",
    "        \"\"\"_summary_\n",
    "        整体思路其实和上面差不多\n",
    "        dp[i][j] 表示到从上到下走到i,j位置最小路径的值.\n",
    "\n",
    "        动态方程: dp[i][j] = min(dp[i-1][j], dp[i-1][j+1]) + triangle[i][j]\n",
    "        dp时候每次只用到上一层数据,如果我们倒着,从底向上可以优化成O(n)空间\n",
    "        Args:\n",
    "            triangle (List[List[int]]): _description_\n",
    "\n",
    "        Returns:\n",
    "            int: _description_\n",
    "        \"\"\"\n",
    "        row = len(triangle)\n",
    "        dp = [0] * row\n",
    "        for i in range(len(triangle[-1])):\n",
    "            dp[i] = triangle[-1][i]\n",
    "        #print(dp)\n",
    "        for i in range(row - 2, -1, -1):\n",
    "            for j in range(i + 1):\n",
    "                dp[j] = min(dp[j], dp[j + 1]) + triangle[i][j]\n",
    "        return dp[0]        "
   ]
  },
  {
   "cell_type": "markdown",
   "metadata": {},
   "source": [
    "Accepted\n",
    "44/44 cases passed (48 ms)\n",
    "Your runtime beats 36.53 % of python3 submissions\n",
    "Your memory usage beats 78.71 % of python3 submissions (15.7 MB)"
   ]
  }
 ],
 "metadata": {
  "kernelspec": {
   "display_name": "Python 3.11.0 64-bit",
   "language": "python",
   "name": "python3"
  },
  "language_info": {
   "name": "python",
   "version": "3.11.0"
  },
  "orig_nbformat": 4,
  "vscode": {
   "interpreter": {
    "hash": "c261aea317cc0286b3b3261fbba9abdec21eaa57589985bb7a274bf54d6cc0a7"
   }
  }
 },
 "nbformat": 4,
 "nbformat_minor": 2
}
