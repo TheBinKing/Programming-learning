{
 "cells": [
  {
   "cell_type": "code",
   "execution_count": null,
   "metadata": {},
   "outputs": [],
   "source": [
    "冒泡排序\n",
    "选择排序\n",
    "归并排序\n",
    "快速排序\n",
    "插入排序\n"
   ]
  },
  {
   "attachments": {},
   "cell_type": "markdown",
   "metadata": {},
   "source": [
    "## 冒泡排序\n",
    "冒泡排序就是通过每次对元素和元素周边的大小关系进行比较，并且根据条件进行交换，每次只对两个相邻的元素进行交换，像冒泡一样，所以叫冒泡排序\n",
    "\n",
    "冒泡排序的最好时间复杂度为：O(n)，示例[1,2,3,4,5]\n",
    "最差的时间复杂度为: O(n^2）示例: [5,4,3,2,1]\n",
    "平均交换次数: k1 = n*(n-1)/4\n",
    "平均比较次数: k2<n**2 && k2>k1= n*(n-1)/4\n",
    "\n",
    "冒泡排序算法平均时间复杂度是O(k1+k2),化简得O(n2)\n",
    "空间复杂度为O(1)\n",
    "\n",
    "### 冒泡排序实现\n",
    "\n",
    "#### 传统冒泡排序\n",
    "最传统的冒泡排序通过两个循环进行处理，第一个循环控制表示完成的个数,第二个循环进行冒泡操作。"
   ]
  },
  {
   "cell_type": "code",
   "execution_count": 7,
   "metadata": {},
   "outputs": [
    {
     "name": "stdout",
     "output_type": "stream",
     "text": [
      "[1, 2, 3, 5]\n"
     ]
    }
   ],
   "source": [
    "list0=[2,3,1,5]\n",
    "for i in range(0,len(list0)):\n",
    "    for j in range(len(list0)-1):\n",
    "        if list0[j]>list0[j+1]:\n",
    "            list0[j],list0[j+1]=list0[j+1],list0[j]\n",
    "            #temp=list0[j+1]\n",
    "            #list0[j+1]=list0[j]\n",
    "            #list0[j]=temp \n",
    "            \n",
    "print(list0)"
   ]
  },
  {
   "attachments": {},
   "cell_type": "markdown",
   "metadata": {},
   "source": [
    "#### 传统冒泡排序优化\n",
    "很明显，第一个大循环每完成一个，最末尾的最大值就完成了归位，我们就不需要再进行那些位置的排序处理。没有很高效的革新优化，但是可以减少不少第二层循环比较多目标。"
   ]
  },
  {
   "cell_type": "code",
   "execution_count": 8,
   "metadata": {},
   "outputs": [
    {
     "name": "stdout",
     "output_type": "stream",
     "text": [
      "[1, 2, 3, 5]\n"
     ]
    }
   ],
   "source": [
    "list0=[2,3,1,5]\n",
    "for i in range(0,len(list0)):\n",
    "    for j in range(len(list0)-1-i):\n",
    "        if list0[j]>list0[j+1]:\n",
    "            list0[j],list0[j+1]=list0[j+1],list0[j]\n",
    "            #temp=list0[j+1]\n",
    "            #list0[j+1]=list0[j]\n",
    "            #list0[j]=temp \n",
    "            \n",
    "print(list0)"
   ]
  },
  {
   "attachments": {},
   "cell_type": "markdown",
   "metadata": {},
   "source": [
    "## 选择排序\n",
    "冒泡排序就像冒泡一样在相邻的元素之间跳转转换，而选择排序和冒泡排序很像。冒泡每次将最大值的放在相邻右侧，而选择排序每次都将最大的值放在最左侧。（左右都是可以换的）\n",
    "\n",
    "空间复杂度：只需要常数个辅助单元，所以空间复杂度为O(1)\n",
    "时间复杂度：我们看到选择排序同样是双层循环n*(n-1)，所以时间复杂度也为：O(n^2)\n",
    "\n",
    "### 传统选择排序实现\n"
   ]
  },
  {
   "cell_type": "code",
   "execution_count": 11,
   "metadata": {},
   "outputs": [
    {
     "name": "stdout",
     "output_type": "stream",
     "text": [
      "[1, 2, 3, 3, 5, 8]\n"
     ]
    }
   ],
   "source": [
    "list0=[2,3,1,5,8,3]\n",
    "for i in range(0,len(list0)):\n",
    "    for j in range(len(list0)-1):\n",
    "        if list0[j]>list0[i]: \n",
    "            list0[j],list0[i]=list0[i],list0[j] \n",
    "            #temp=list0[j+1]\n",
    "            #list0[j+1]=list0[j]\n",
    "            #list0[j]=temp \n",
    "            \n",
    "print(list0)"
   ]
  },
  {
   "cell_type": "code",
   "execution_count": 2,
   "metadata": {},
   "outputs": [
    {
     "name": "stdout",
     "output_type": "stream",
     "text": [
      "[1, 2, 3, 3, 5, 8]\n"
     ]
    }
   ],
   "source": [
    "\n",
    "def merge_sort(alist):\n",
    "    if len(alist)<=1:\n",
    "        return alist\n",
    "    mid=len(alist)//2\n",
    "    left=alist[:mid]\n",
    "    right=alist[mid:]\n",
    "    \n",
    "    left=merge_sort(left)\n",
    "    right=merge_sort(right)\n",
    "    \n",
    "    return merge_list(left,right)\n",
    "def merge_list(left,right):\n",
    "    sort_list=[]\n",
    "    i,j=0,0\n",
    "    while i<len(left) and j <len(right):\n",
    "        if left[i]<right[j]:\n",
    "            sort_list.append(left[i])\n",
    "            i+=1\n",
    "        else:\n",
    "            sort_list.append(right[j])\n",
    "            j+=1\n",
    "    sort_list+=left[i:]\n",
    "    sort_list+=right[j:]\n",
    "    return sort_list\n",
    "list0=[2,3,1,5,8,3]\n",
    "print(merge_sort(list0)) \n",
    "        \n"
   ]
  }
 ],
 "metadata": {
  "kernelspec": {
   "display_name": "Python 3.7.16 ('SCA')",
   "language": "python",
   "name": "python3"
  },
  "language_info": {
   "codemirror_mode": {
    "name": "ipython",
    "version": 3
   },
   "file_extension": ".py",
   "mimetype": "text/x-python",
   "name": "python",
   "nbconvert_exporter": "python",
   "pygments_lexer": "ipython3",
   "version": "3.7.16"
  },
  "orig_nbformat": 4,
  "vscode": {
   "interpreter": {
    "hash": "e3e12900edfa1c408c5d3db94a853a810b2481e97934a10c7c07b31e7c0a6762"
   }
  }
 },
 "nbformat": 4,
 "nbformat_minor": 2
}
