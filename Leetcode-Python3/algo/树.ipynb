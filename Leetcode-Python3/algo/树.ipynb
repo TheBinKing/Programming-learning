{
 "cells": [
  {
   "cell_type": "code",
   "execution_count": null,
   "metadata": {},
   "outputs": [],
   "source": [
    "class BinarySearchTree:\n",
    "    def __init__(self):\n",
    "        self.root=None\n",
    "        self.size=0\n",
    "    def length(self):\n",
    "        return self.size\n",
    "    def __len__(self):\n",
    "        return self.size\n",
    "\n",
    "class TreeNode:\n",
    "    def __init__(self,key,val,left=None,right=None,parent=None):\n",
    "        self.key=key\n",
    "        self.payload=val\n",
    "        self.leftChild=left\n",
    "        self.rightChild=right\n",
    "        self.parent=parent\n",
    "    def hasLeftChild(self):\n",
    "        return self.leftChild\n",
    "    def hasRightChild(self):\n",
    "        return self.rightChild\n",
    "    def isLeftChild(self):\n",
    "        return self.parent and self.parent.leftChild ==self\n",
    "    def isRightChild(self):\n",
    "        return self.parent and self.parent.RightChild ==self\n",
    "    def put(self,key,val):\n",
    "        if self.root:\n",
    "            self._put(key,val,self.root)\n",
    "        else:\n",
    "            self.root=TreeNode(key,val)\n",
    "        self.size=self.size+1\n",
    "    def _put(self,key,val,currentNode):\n",
    "        if key<currentNode.key:\n",
    "            if currentNode.hasLeftChild():\n",
    "                self._put(key,val,currentNode.leftchild)\n",
    "            else:\n",
    "                currentNode.leftChild=TreeNode(key,val,parent=currentNode)\n",
    "        else:\n",
    "            if currentNode.hasRightChild():\n",
    "                self._put(key,val,currentNode.rightChild)\n",
    "            else:\n",
    "                currentNode.rightChild=TreeNode(key,val,parent=currentNode)\n",
    "        \n",
    "        \n",
    "        \n",
    "        "
   ]
  }
 ],
 "metadata": {
  "language_info": {
   "name": "python"
  },
  "orig_nbformat": 4
 },
 "nbformat": 4,
 "nbformat_minor": 2
}
