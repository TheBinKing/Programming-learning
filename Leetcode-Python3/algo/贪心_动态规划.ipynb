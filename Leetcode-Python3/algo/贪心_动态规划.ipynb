{
 "cells": [
  {
   "attachments": {},
   "cell_type": "markdown",
   "metadata": {},
   "source": [
    "https://blog.csdn.net/weixin_54958866/article/details/123223437\n",
    "\n",
    "# 贪心算法\n",
    "贪心算法就是按照一定的规则，每次都去选择当前条件下最优的选择来构造\n",
    "\n",
    "392，122"
   ]
  }
 ],
 "metadata": {
  "language_info": {
   "name": "python"
  },
  "orig_nbformat": 4
 },
 "nbformat": 4,
 "nbformat_minor": 2
}
