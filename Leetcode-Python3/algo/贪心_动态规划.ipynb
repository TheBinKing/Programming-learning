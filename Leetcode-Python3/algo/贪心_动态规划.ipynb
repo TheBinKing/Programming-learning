{
 "cells": [
  {
   "attachments": {},
   "cell_type": "markdown",
   "metadata": {},
   "source": [
    "https://blog.csdn.net/weixin_54958866/article/details/123223437\n",
    "\n",
    "# 贪心算法\n",
    "贪心算法就是按照一定的规则，每次都去选择当前条件下最优的选择来构造\n",
    "\n",
    "392，122"
   ]
  },
  {
   "cell_type": "code",
   "execution_count": 14,
   "metadata": {},
   "outputs": [
    {
     "data": {
      "text/plain": [
       "3"
      ]
     },
     "execution_count": 14,
     "metadata": {},
     "output_type": "execute_result"
    }
   ],
   "source": [
    "def L(list,num):\n",
    "    if num==len(list)-1:\n",
    "        return 1\n",
    "    max_len=1\n",
    "    for i in range(num+1,len(list)):\n",
    "        if list[i]>list[num]:\n",
    "            max_len= max(max_len,L(list,i)+1)\n",
    "    return max_len\n",
    "def max_increse(list):\n",
    "    return max(L(list,i) for i in range(len(list)))\n",
    "        \n",
    "a=[1,5,2,4,3]\n",
    "max_increse(a)\n"
   ]
  }
 ],
 "metadata": {
  "kernelspec": {
   "display_name": "Python 3",
   "language": "python",
   "name": "python3"
  },
  "language_info": {
   "codemirror_mode": {
    "name": "ipython",
    "version": 3
   },
   "file_extension": ".py",
   "mimetype": "text/x-python",
   "name": "python",
   "nbconvert_exporter": "python",
   "pygments_lexer": "ipython3",
   "version": "3.9.6"
  },
  "orig_nbformat": 4
 },
 "nbformat": 4,
 "nbformat_minor": 2
}
