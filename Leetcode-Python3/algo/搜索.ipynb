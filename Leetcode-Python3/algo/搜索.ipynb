{
 "cells": [
  {
   "cell_type": "code",
   "execution_count": null,
   "metadata": {},
   "outputs": [],
   "source": []
  },
  {
   "attachments": {},
   "cell_type": "markdown",
   "metadata": {},
   "source": [
    "## 深度优先搜索算法\n",
    "Depth-First-Search，DFS\n",
    "从根节点沿着一点的遍历规则，一直探索到底部，到头后回溯其父节点，继续遍历。\n",
    "\n",
    "### 实例\n",
    "\n",
    "graph={\n",
    "    \"A\":[\"B\",\"C\"],\n",
    "    \"B\":[\"A\",\"C\",\"D\"],\n",
    "    \"C\":[\"A\",\"B\",\"D\",\"E\"],\n",
    "    \"D\":[\"B\",\"C\",\"E\",\"F\"],\n",
    "    \"E\":[\"C\",\"D\"],\n",
    "    \"F\":[\"D\"]\n",
    "}\n",
    "def BFS(graph,s):  #s是起始点\n",
    "    queue=[]  #数组可以动态的添加或者删除 append、pop\n",
    "    queue.append(s)\n",
    "    seen=[]  #来保存放过的节点\n",
    "    seen.append(s)\n",
    "    while(len(queue)>0):\n",
    "        vertex=queue.pop()\n",
    "        nodes=graph[vertex]\n",
    "        for node in nodes:\n",
    "            if node not in seen:\n",
    "                queue.append(node)\n",
    "                seen.append(node)\n",
    "        print(vertex) #把当前拿出去的节点打印出来\n",
    "BFS(graph,\"A\")\n"
   ]
  },
  {
   "attachments": {},
   "cell_type": "markdown",
   "metadata": {},
   "source": [
    "## 广度优先搜索算法\n",
    "\n",
    "\n",
    "```\n",
    "graph={\n",
    "    \"A\":[\"B\",\"C\"],\n",
    "    \"B\":[\"A\",\"C\",\"D\"],\n",
    "    \"C\":[\"A\",\"B\",\"D\",\"E\"],\n",
    "    \"D\":[\"B\",\"C\",\"E\",\"F\"],\n",
    "    \"E\":[\"C\",\"D\"],\n",
    "    \"F\":[\"D\"]\n",
    "}\n",
    "def BFS(graph,s):  #s是起始点\n",
    "    queue=[]  #数组可以动态的添加或者删除 append、pop\n",
    "    queue.append(s)\n",
    "    seen=[]  #来保存放过的节点\n",
    "    seen.append(s)\n",
    "    while(len(queue)>0):\n",
    "        vertex=queue.pop(0)\n",
    "        nodes=graph[vertex]\n",
    "        for node in nodes:\n",
    "            if node not in seen:\n",
    "                queue.append(node)\n",
    "                seen.append(node)\n",
    "        print(vertex) #把当前拿出去的节点打印出来\n",
    "BFS(graph,\"A\")\n",
    "```\n"
   ]
  },
  {
   "attachments": {},
   "cell_type": "markdown",
   "metadata": {},
   "source": [
    "## 回溯法\n",
    "\n",
    "https://blog.csdn.net/qq_42518956/article/details/116712035\n",
    "\n",
    "子集树：当所给问题是从集合中找出满足某种性质的子集时，相应的解空间树称为子集树。\n",
    "排列树：当所给问题事从集合中确定满足某种性质的排列时，相应的解空间树称为排列树。\n"
   ]
  },
  {
   "attachments": {},
   "cell_type": "markdown",
   "metadata": {},
   "source": [
    "eg：八数码问题（九宫格问题）\n",
    "将任意九宫格输入移动转换成一下状态\n",
    "[[1, 2, 3], [8, 0, 4], [7, 6, 5]]"
   ]
  }
 ],
 "metadata": {
  "language_info": {
   "name": "python"
  },
  "orig_nbformat": 4
 },
 "nbformat": 4,
 "nbformat_minor": 2
}
