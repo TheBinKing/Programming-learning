{
 "cells": [
  {
   "cell_type": "code",
   "execution_count": 6,
   "metadata": {},
   "outputs": [
    {
     "name": "stdout",
     "output_type": "stream",
     "text": [
      "0\n",
      "1\n"
     ]
    }
   ],
   "source": [
    "def binarySearch(alist,item):\n",
    "\tif len(alist)==0:\n",
    "\t\treturn 0\n",
    "\telse:\n",
    "\t\tmid=len(alist)//2\n",
    "\t\tif alist[mid]==item:\n",
    "\t\t\treturn 1\n",
    "\t\telif alist[mid]>item:\n",
    "\t\t\treturn binarySearch(alist[:mid],item)\n",
    "\t\telse:\n",
    "\t\t\treturn binarySearch(alist[mid+1:],item)\n",
    "testlist = [0, 1, 2, 8, 13, 17, 19, 32, 42] \n",
    "print(binarySearch(testlist, 3)) \n",
    "print(binarySearch(testlist, 13))"
   ]
  }
 ],
 "metadata": {
  "kernelspec": {
   "display_name": "Python 3.7.16 ('SCA')",
   "language": "python",
   "name": "python3"
  },
  "language_info": {
   "codemirror_mode": {
    "name": "ipython",
    "version": 3
   },
   "file_extension": ".py",
   "mimetype": "text/x-python",
   "name": "python",
   "nbconvert_exporter": "python",
   "pygments_lexer": "ipython3",
   "version": "3.7.16"
  },
  "orig_nbformat": 4,
  "vscode": {
   "interpreter": {
    "hash": "e3e12900edfa1c408c5d3db94a853a810b2481e97934a10c7c07b31e7c0a6762"
   }
  }
 },
 "nbformat": 4,
 "nbformat_minor": 2
}
